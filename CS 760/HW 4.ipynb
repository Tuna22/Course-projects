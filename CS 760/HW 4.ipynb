{
 "cells": [
  {
   "cell_type": "code",
   "execution_count": 1,
   "id": "cc1b46af",
   "metadata": {},
   "outputs": [],
   "source": [
    "import numpy as np\n",
    "import pandas as pd\n",
    "import random\n",
    "import matplotlib.pyplot as plt\n",
    "import os\n",
    "import re\n",
    "import pandas as pd\n",
    "import copy\n",
    "from sklearn.metrics import confusion_matrix as cm\n",
    "from torchvision import datasets, transforms\n",
    "import torchvision.datasets as datasets\n",
    "import torch\n",
    "import torch.nn as nn\n",
    "import torch.optim as optim\n",
    "from torch.utils.data import DataLoader,RandomSampler\n",
    "import torch.nn.init as init"
   ]
  },
  {
   "cell_type": "markdown",
   "id": "ed7ce290",
   "metadata": {},
   "source": [
    "# Naive Bayes"
   ]
  },
  {
   "cell_type": "code",
   "execution_count": 2,
   "id": "4fee63d1",
   "metadata": {},
   "outputs": [],
   "source": [
    "# read data\n",
    "dataset_path = \"data\"\n",
    "\n",
    "def read_text_file(filepath: str) -> str:\n",
    "    with open(filepath, 'r') as file:\n",
    "        text_content = file.read()\n",
    "    text_content = re.sub('[^a-zA-Z ]', '', text_content)\n",
    "    return text_content\n",
    "\n",
    "X_train = [] \n",
    "y_train = [] \n",
    "labels = ['e', 'j', 's']\n",
    "\n",
    "for language in labels:\n",
    "    for index in range(10):\n",
    "        file_path = os.path.join(dataset_path, language + str(index) + '.txt')\n",
    "        X_train.append(read_text_file(file_path))\n",
    "        y_train.append(language)"
   ]
  },
  {
   "cell_type": "code",
   "execution_count": 3,
   "id": "05a5bcdc",
   "metadata": {},
   "outputs": [],
   "source": [
    "def add_smooth(i, fre_vec, alpha = 0.5):\n",
    "    return (fre_vec[i] + alpha) / (sum(fre_vec) + len(fre_vec) * alpha)"
   ]
  },
  {
   "cell_type": "markdown",
   "id": "81ce1e96",
   "metadata": {},
   "source": [
    "## 2.1"
   ]
  },
  {
   "cell_type": "code",
   "execution_count": 4,
   "id": "2b8b46bb",
   "metadata": {},
   "outputs": [
    {
     "name": "stdout",
     "output_type": "stream",
     "text": [
      "Prior of label e: 0.3333333333333333\n",
      "Prior of label j: 0.3333333333333333\n",
      "Prior of label s: 0.3333333333333333\n"
     ]
    }
   ],
   "source": [
    "label_count = np.array([0,0,0])\n",
    "for i in range(len(label_count)):\n",
    "    label_count[i] = y_train.count(labels[i])\n",
    "\n",
    "# Initialize prior\n",
    "label_prior = np.array([1/3, 1/3, 1/3])\n",
    "for i in range(len(label_count)):\n",
    "    label_prior[i] = add_smooth(i, label_count)\n",
    "    print(f\"Prior of label {labels[i]}: {label_prior[i]}\")"
   ]
  },
  {
   "cell_type": "markdown",
   "id": "64a7aa5d",
   "metadata": {},
   "source": [
    "##"
   ]
  },
  {
   "cell_type": "code",
   "execution_count": 5,
   "id": "a4165602",
   "metadata": {},
   "outputs": [
    {
     "name": "stdout",
     "output_type": "stream",
     "text": [
      "English prior of character 0    a: 0.0601685114819098\n",
      "English prior of character 1    b: 0.011134974392863043\n",
      "English prior of character 2    c: 0.021509995043779945\n",
      "English prior of character 3    d: 0.021972575582355856\n",
      "English prior of character 4    e: 0.1053692383941847\n",
      "English prior of character 5    f: 0.018932760614571286\n",
      "English prior of character 6    g: 0.017478936064761277\n",
      "English prior of character 7    h: 0.047216256401784236\n",
      "English prior of character 8    i: 0.055410540227986124\n",
      "English prior of character 9    j: 0.001420783082768875\n",
      "English prior of character 10    k: 0.0037336857756484387\n",
      "English prior of character 11    l: 0.028977366595076822\n",
      "English prior of character 12    m: 0.020518751032545846\n",
      "English prior of character 13    n: 0.057921691723112505\n",
      "English prior of character 14    o: 0.06446390219725756\n",
      "English prior of character 15    p: 0.01675202378985627\n",
      "English prior of character 16    q: 0.0005617049396993227\n",
      "English prior of character 17    r: 0.053824549810011564\n",
      "English prior of character 18    s: 0.06618205848339666\n",
      "English prior of character 19    t: 0.08012555757475633\n",
      "English prior of character 20    u: 0.026664463902197257\n",
      "English prior of character 21    v: 0.009284652238559392\n",
      "English prior of character 22    w: 0.015496448042293078\n",
      "English prior of character 23    x: 0.001156451346439782\n",
      "English prior of character 24    y: 0.013844374690236246\n",
      "English prior of character 25    z: 0.0006277878737815959\n",
      "English prior of character 26     : 0.1792499586981662\n"
     ]
    }
   ],
   "source": [
    "# ccpe = [] # class conditional probability for english\n",
    "character_dict = {\n",
    "    \"a\":0,\n",
    "    \"b\":1,\n",
    "    \"c\":2,\n",
    "    \"d\":3,\n",
    "    \"e\":4,\n",
    "    \"f\":5,\n",
    "    \"g\":6,\n",
    "    \"h\":7,\n",
    "    \"i\":8,\n",
    "    \"j\":9,\n",
    "    \"k\":10,\n",
    "    \"l\":11,\n",
    "    \"m\":12,\n",
    "    \"n\":13,\n",
    "    \"o\":14,\n",
    "    \"p\":15,\n",
    "    \"q\":16,\n",
    "    \"r\":17,\n",
    "    \"s\":18,\n",
    "    \"t\":19,\n",
    "    \"u\":20,\n",
    "    \"v\":21,\n",
    "    \"w\":22,\n",
    "    \"x\":23,\n",
    "    \"y\":24,\n",
    "    \"z\":25,\n",
    "    \" \":26\n",
    "}\n",
    "df_character_dict = pd.DataFrame({'Character':list(character_dict.keys()),\n",
    "                                    'Dict':list(character_dict.values())}) \n",
    "e_label_count = np.zeros(27)\n",
    "for i in np.where(np.array(y_train) == 'e')[0]:\n",
    "    for j in range(len(X_train[i])):\n",
    "        e_label_count[character_dict[X_train[i][j]]] += 1\n",
    "    \n",
    "\n",
    "e_character_prior = np.zeros(27)\n",
    "for i in range(len(e_label_count)):\n",
    "    e_character_prior[i] = add_smooth(i, e_label_count)\n",
    "    e_character = df_character_dict.Character[df_character_dict.Dict == i]\n",
    "    print(f\"English prior of character {e_character.to_string(index = True)}: {e_character_prior[i]}\")\n"
   ]
  },
  {
   "cell_type": "markdown",
   "id": "26e30923",
   "metadata": {},
   "source": [
    "##"
   ]
  },
  {
   "cell_type": "code",
   "execution_count": 6,
   "id": "9e9e46bb",
   "metadata": {},
   "outputs": [
    {
     "name": "stdout",
     "output_type": "stream",
     "text": [
      "Japanese prior of character 0    a: 0.1317656102589189\n",
      "Japanese prior of character 1    b: 0.010866906600510151\n",
      "Japanese prior of character 2    c: 0.005485866033054963\n",
      "Japanese prior of character 3    d: 0.01722631818022992\n",
      "Japanese prior of character 4    e: 0.06020475907613823\n",
      "Japanese prior of character 5    f: 0.003878542227191726\n",
      "Japanese prior of character 6    g: 0.014011670568503443\n",
      "Japanese prior of character 7    h: 0.03176211607673224\n",
      "Japanese prior of character 8    i: 0.09703343932352633\n",
      "Japanese prior of character 9    j: 0.0023411020650616725\n",
      "Japanese prior of character 10    k: 0.05740941332681086\n",
      "Japanese prior of character 11    l: 0.001432614696530277\n",
      "Japanese prior of character 12    m: 0.03979873510604843\n",
      "Japanese prior of character 13    n: 0.05671057688947902\n",
      "Japanese prior of character 14    o: 0.09116321324993885\n",
      "Japanese prior of character 15    p: 0.0008735455466648031\n",
      "Japanese prior of character 16    q: 0.00010482546559977637\n",
      "Japanese prior of character 17    r: 0.04280373178657535\n",
      "Japanese prior of character 18    s: 0.0421747789929767\n",
      "Japanese prior of character 19    t: 0.056990111464411755\n",
      "Japanese prior of character 20    u: 0.07061742199238269\n",
      "Japanese prior of character 21    v: 0.0002445927530661449\n",
      "Japanese prior of character 22    w: 0.01974212935462455\n",
      "Japanese prior of character 23    x: 3.4941821866592126e-05\n",
      "Japanese prior of character 24    y: 0.01415143785596981\n",
      "Japanese prior of character 25    z: 0.00772214263251686\n",
      "Japanese prior of character 26     : 0.12344945665466997\n"
     ]
    }
   ],
   "source": [
    "j_label_count = np.zeros(27)\n",
    "for i in np.where(np.array(y_train) == 'j')[0]:\n",
    "    for j in range(len(X_train[i])):\n",
    "        j_label_count[character_dict[X_train[i][j]]] += 1\n",
    "    \n",
    "\n",
    "j_character_prior = np.zeros(27)\n",
    "for i in range(len(j_label_count)):\n",
    "    j_character_prior[i] = add_smooth(i, j_label_count)\n",
    "    j_character = df_character_dict.Character[df_character_dict.Dict == i]\n",
    "    print(f\"Japanese prior of character {j_character.to_string(index = True)}: {j_character_prior[i]}\")"
   ]
  },
  {
   "cell_type": "code",
   "execution_count": 7,
   "id": "17688186",
   "metadata": {},
   "outputs": [
    {
     "name": "stdout",
     "output_type": "stream",
     "text": [
      "Spanish prior of character 0    a: 0.10456045141993771\n",
      "Spanish prior of character 1    b: 0.008232863618143134\n",
      "Spanish prior of character 2    c: 0.03752582405722919\n",
      "Spanish prior of character 3    d: 0.039745922111559924\n",
      "Spanish prior of character 4    e: 0.1138108599796491\n",
      "Spanish prior of character 5    f: 0.00860287996053159\n",
      "Spanish prior of character 6    g: 0.0071844839813758445\n",
      "Spanish prior of character 7    h: 0.0045327001942585795\n",
      "Spanish prior of character 8    i: 0.049859702136844375\n",
      "Spanish prior of character 9    j: 0.006629459467793161\n",
      "Spanish prior of character 10    k: 0.0002775122567913416\n",
      "Spanish prior of character 11    l: 0.052943171656748174\n",
      "Spanish prior of character 12    m: 0.02580863988159477\n",
      "Spanish prior of character 13    n: 0.054176559464709693\n",
      "Spanish prior of character 14    o: 0.07249236841293824\n",
      "Spanish prior of character 15    p: 0.02426690512164287\n",
      "Spanish prior of character 16    q: 0.007677839104560451\n",
      "Spanish prior of character 17    r: 0.05929511886774999\n",
      "Spanish prior of character 18    s: 0.06577040485954797\n",
      "Spanish prior of character 19    t: 0.03561407295488884\n",
      "Spanish prior of character 20    u: 0.03370232185254849\n",
      "Spanish prior of character 21    v: 0.00588942678301625\n",
      "Spanish prior of character 22    w: 9.250408559711388e-05\n",
      "Spanish prior of character 23    x: 0.0024976103111220747\n",
      "Spanish prior of character 24    y: 0.007862847275754679\n",
      "Spanish prior of character 25    z: 0.0026826184823163022\n",
      "Spanish prior of character 26     : 0.16826493170115014\n"
     ]
    }
   ],
   "source": [
    "s_label_count = np.zeros(27)\n",
    "for i in np.where(np.array(y_train) == 's')[0]:\n",
    "    for j in range(len(X_train[i])):\n",
    "        s_label_count[character_dict[X_train[i][j]]] += 1\n",
    "    \n",
    "\n",
    "s_character_prior = np.zeros(27)\n",
    "for i in range(len(s_label_count)):\n",
    "    s_character_prior[i] = add_smooth(i, s_label_count)\n",
    "    s_character = df_character_dict.Character[df_character_dict.Dict == i]\n",
    "    print(f\"Spanish prior of character {s_character.to_string(index = True)}: {s_character_prior[i]}\")"
   ]
  },
  {
   "cell_type": "markdown",
   "id": "e98d1767",
   "metadata": {},
   "source": [
    "##"
   ]
  },
  {
   "cell_type": "code",
   "execution_count": 8,
   "id": "14fb3993",
   "metadata": {},
   "outputs": [
    {
     "name": "stdout",
     "output_type": "stream",
     "text": [
      "[164.  32.  53.  57. 311.  55.  51. 140. 140.   3.   6.  85.  64. 139.\n",
      " 182.  53.   3. 141. 186. 225.  65.  31.  47.   4.  38.   2. 498.]\n"
     ]
    }
   ],
   "source": [
    "X_e_test = []\n",
    "file_path = os.path.join(dataset_path, \"e\" + str(10) + '.txt')\n",
    "X_e_test = (read_text_file(file_path))\n",
    "\n",
    "e10_count = np.zeros(27)\n",
    "for character in X_e_test:\n",
    "    e10_count[character_dict[character]] += 1\n",
    "\n",
    "e10_count = np.array(e10_count)\n",
    "print(e10_count)"
   ]
  },
  {
   "cell_type": "markdown",
   "id": "9ec4a665",
   "metadata": {},
   "source": [
    "## "
   ]
  },
  {
   "cell_type": "code",
   "execution_count": 9,
   "id": "ea826240",
   "metadata": {},
   "outputs": [
    {
     "name": "stdout",
     "output_type": "stream",
     "text": [
      "[-7841.865447060635, -8771.433079075032, -8467.282044010557]\n"
     ]
    }
   ],
   "source": [
    "character_prior = [e_character_prior, j_character_prior, s_character_prior]\n",
    "prob = []\n",
    "for i in range(3):\n",
    "    logprob = 0\n",
    "    for j in range(27):\n",
    "        logprob += e10_count[j] * np.log(character_prior[i][j])\n",
    "    prob.append(logprob)\n",
    "print(prob)"
   ]
  },
  {
   "cell_type": "markdown",
   "id": "a416a82f",
   "metadata": {},
   "source": [
    "##"
   ]
  },
  {
   "cell_type": "code",
   "execution_count": 10,
   "id": "27331f98",
   "metadata": {},
   "outputs": [
    {
     "name": "stdout",
     "output_type": "stream",
     "text": [
      "\n",
      " Predicted label of x : e\n"
     ]
    }
   ],
   "source": [
    "pre_x = labels[np.argmax(prob)]\n",
    "print(f\"\\n Predicted label of x : {pre_x}\")\n",
    "# print(\"best label estimate is \" + langs[MAP_idx] + \" with probability \" + str(MAP_val))"
   ]
  },
  {
   "cell_type": "markdown",
   "id": "6f995df5",
   "metadata": {},
   "source": [
    "##"
   ]
  },
  {
   "cell_type": "code",
   "execution_count": 11,
   "id": "faca01d2",
   "metadata": {},
   "outputs": [
    {
     "data": {
      "text/plain": [
       "array([[10,  0,  0],\n",
       "       [ 0, 10,  0],\n",
       "       [ 0,  0, 10]], dtype=int64)"
      ]
     },
     "execution_count": 11,
     "metadata": {},
     "output_type": "execute_result"
    }
   ],
   "source": [
    "X_test = []\n",
    "y_test = []\n",
    "for language in labels:\n",
    "    for index in range(10, 20):\n",
    "        file_path = os.path.join(dataset_path, language + str(index) + '.txt')\n",
    "        X_test.append(read_text_file(file_path))\n",
    "        y_test.append(language)\n",
    "        \n",
    "test_count = np.zeros((30,27))\n",
    "for i in range(len(X_test)):\n",
    "    for character in X_test[i]:\n",
    "        test_count[i][character_dict[character]] += 1\n",
    "\n",
    "prob = np.zeros((30,3))\n",
    "for k in range(len(X_test)):\n",
    "    for i in range(3):\n",
    "        logprob = 0\n",
    "        for j in range(27):\n",
    "            logprob += test_count[k][j] * np.log(character_prior[i][j])\n",
    "        prob[k][i] = logprob\n",
    "\n",
    "y_test_pred = []\n",
    "# since the prior is equal, just use likelihood\n",
    "for i in range(len(X_test)):\n",
    "    y_test_pred.append(labels[np.argmax(prob[i])])\n",
    "\n",
    "# Confusion matrix\n",
    "cm(y_test, y_test_pred)"
   ]
  },
  {
   "cell_type": "markdown",
   "id": "639f3d3a",
   "metadata": {},
   "source": [
    "# Network"
   ]
  },
  {
   "cell_type": "code",
   "execution_count": null,
   "id": "9feefa4d",
   "metadata": {},
   "outputs": [],
   "source": []
  },
  {
   "cell_type": "code",
   "execution_count": 2,
   "id": "286eb14b",
   "metadata": {},
   "outputs": [],
   "source": [
    "# Hyperparameters\n",
    "# Input dimension (MNIST images are 28x28 = 784)\n",
    "d = 784  \n",
    "d1 = 300\n",
    "# 10 Classes\n",
    "k = 10 \n",
    "\n",
    "alpha = 0.04\n",
    "batch = 32\n",
    "epochs = 15"
   ]
  },
  {
   "cell_type": "code",
   "execution_count": 3,
   "id": "0c7574bd",
   "metadata": {},
   "outputs": [],
   "source": [
    "# the transformer which can convert images to tensors\n",
    "transform = transforms.Compose([transforms.ToTensor()])\n",
    "\n",
    "# Load the MNIST datasets with transformations\n",
    "mnist_trainset = datasets.MNIST(root='./data', train=True, download=True, transform=transform)\n",
    "mnist_testset = datasets.MNIST(root='./data', train=False, download=True, transform=transform)\n",
    "\n",
    "# Loaders with transformed data\n",
    "train_loader = DataLoader(mnist_trainset, batch_size=batch, shuffle=True)\n",
    "test_loader = DataLoader(mnist_testset, batch_size=batch, shuffle=False)\n",
    "\n",
    "# Maybe enhance the calculation efficiency \n",
    "os.environ[\"KMP_DUPLICATE_LIB_OK\"]=\"TRUE\""
   ]
  },
  {
   "cell_type": "markdown",
   "id": "057f6b9b",
   "metadata": {},
   "source": [
    "## Using Numpy to write a NN"
   ]
  },
  {
   "cell_type": "code",
   "execution_count": 14,
   "id": "1fcd2dba",
   "metadata": {},
   "outputs": [],
   "source": [
    "# Define the CrossEntropyLoss function\n",
    "def cross_entropy_loss(outputs, labels):\n",
    "\n",
    "    log_likelihood = -np.log(outputs[range(labels.shape[0]), labels])\n",
    "    loss = np.sum(log_likelihood)\n",
    "    return loss\n",
    "\n",
    "class Numpy_NN:\n",
    "    def __init__(self, d, d1, k):\n",
    "        # initialize the weights\n",
    "        self.weights1 = np.random.uniform(-1, 1, (d, d1))\n",
    "        self.weights2 = np.random.uniform(-1, 1, (d1, k))\n",
    "\n",
    "    def sigmoid(self, x):\n",
    "        return 1 / (1 + np.exp(-x))\n",
    "\n",
    "    def softmax(self, x):\n",
    "        return np.exp(x) / np.sum(np.exp(x), axis=1, keepdims=True)\n",
    "\n",
    "    def forward(self, x):\n",
    "        self.z1 = np.dot(x, self.weights1)\n",
    "        self.a1 = self.sigmoid(self.z1)\n",
    "        self.z2 = np.dot(self.a1, self.weights2)\n",
    "        self.a2 = self.softmax(self.z2)\n",
    "        return self.a2\n",
    "\n",
    "    def backward(self, x, y):\n",
    "        dz2 = self.a2 - np.eye(self.a2.shape[1])[y]  # Convert labels to one-hot encoding\n",
    "        dw2 = np.dot(self.a1.T, dz2) / x.shape[0] # outer\n",
    "        dz1 = np.dot(dz2, self.weights2.T) * self.a1 * (1 - self.a1)\n",
    "        dw1 = np.dot(x.T, dz1) / x.shape[0] # outer\n",
    "        return dw1, dw2\n",
    "\n",
    "    def update_parameters(self, dw1, dw2, step_size):\n",
    "        self.weights1 -= step_size * dw1\n",
    "        self.weights2 -= step_size * dw2"
   ]
  },
  {
   "cell_type": "code",
   "execution_count": 17,
   "id": "6baf7223",
   "metadata": {},
   "outputs": [],
   "source": [
    "def numpy_train_nn(network, input_dim = d, hidden_dim = d1, output_dim = k, \n",
    "                   step_size = alpha, iteration = epochs, \n",
    "                   train_data = train_loader, test_data = test_loader):\n",
    "\n",
    "    # Initialize model, loss function, and optimizer\n",
    "    model = network(input_dim, hidden_dim, output_dim)\n",
    "\n",
    "    # Start training and collect metrics\n",
    "    train_losses = [] \n",
    "    epochs_list = []\n",
    "    train_accuracies = []\n",
    "    test_accuracies = []\n",
    "    \n",
    "    sampler = RandomSampler(mnist_trainset, replacement=True)\n",
    "    train_loader = DataLoader(mnist_trainset, batch_size=batch, sampler=sampler)\n",
    "\n",
    "    for epoch in range(iteration):\n",
    "        total_loss = 0\n",
    "        correct_train = 0\n",
    "        total_train = 0\n",
    "\n",
    "        for images, labels in train_loader:\n",
    "            # Flatten the input images\n",
    "            images = images.view(-1, d).numpy()  \n",
    "            labels = labels.numpy()\n",
    "\n",
    "            outputs = model.forward(images)\n",
    "            loss = cross_entropy_loss(outputs, labels)\n",
    "\n",
    "            dw1, dw2 = model.backward(images, labels)\n",
    "\n",
    "            model.update_parameters(dw1, dw2, step_size)\n",
    "\n",
    "            total_loss += loss\n",
    "\n",
    "            predicted = np.argmax(outputs, axis=1)\n",
    "            total_train += labels.shape[0]\n",
    "            correct_train += np.sum(predicted == labels)\n",
    "\n",
    "        avg_loss = total_loss\n",
    "        train_losses.append(avg_loss)\n",
    "        train_accuracy = correct_train / total_train\n",
    "        train_accuracies.append(train_accuracy)\n",
    "\n",
    "        # Calculate test accuracy\n",
    "        correct_test = 0\n",
    "        total_test = 0\n",
    "\n",
    "        for images, labels in test_data:\n",
    "            images = images.view(-1, d).numpy()\n",
    "            labels = labels.numpy()\n",
    "            outputs = model.forward(images)\n",
    "            predicted = np.argmax(outputs, axis=1)\n",
    "            total_test += labels.shape[0]\n",
    "            correct_test += np.sum(predicted == labels)\n",
    "\n",
    "        test_accuracy = correct_test / total_test\n",
    "        test_accuracies.append(test_accuracy)\n",
    "        print(f'{epoch + 1}, Loss: {avg_loss}, Train: {train_accuracy}, Test: {test_accuracy}')\n",
    "    return train_accuracies, test_accuracies\n"
   ]
  },
  {
   "cell_type": "code",
   "execution_count": 18,
   "id": "edd1f685",
   "metadata": {
    "scrolled": false
   },
   "outputs": [
    {
     "name": "stdout",
     "output_type": "stream",
     "text": [
      "1, Loss: 55594.29262611871, Train: 0.7619166666666667, Test: 0.8639\n",
      "2, Loss: 25296.522822950184, Train: 0.8764666666666666, Test: 0.8931\n",
      "3, Loss: 20263.036746990303, Train: 0.9014166666666666, Test: 0.9093\n",
      "4, Loss: 17425.71739829235, Train: 0.9145666666666666, Test: 0.9168\n",
      "5, Loss: 15646.088318995, Train: 0.9229333333333334, Test: 0.9204\n",
      "6, Loss: 14120.4486287753, Train: 0.9306333333333333, Test: 0.9256\n",
      "7, Loss: 12953.451794065513, Train: 0.9359166666666666, Test: 0.9295\n",
      "8, Loss: 12525.125592886337, Train: 0.9379666666666666, Test: 0.9323\n",
      "9, Loss: 11793.537334479313, Train: 0.9427, Test: 0.9343\n",
      "10, Loss: 11114.084948408943, Train: 0.9454, Test: 0.936\n",
      "11, Loss: 10469.304331061869, Train: 0.9491166666666667, Test: 0.939\n",
      "12, Loss: 9928.874301735705, Train: 0.9509666666666666, Test: 0.9407\n",
      "13, Loss: 9479.735343224927, Train: 0.95145, Test: 0.9429\n",
      "14, Loss: 8948.083087238854, Train: 0.9558, Test: 0.944\n",
      "15, Loss: 8650.855122018982, Train: 0.9574333333333334, Test: 0.9449\n"
     ]
    }
   ],
   "source": [
    "numpy_nn = numpy_train_nn(Numpy_NN)"
   ]
  },
  {
   "cell_type": "code",
   "execution_count": 19,
   "id": "b917eda8",
   "metadata": {},
   "outputs": [
    {
     "name": "stdout",
     "output_type": "stream",
     "text": [
      "1, Test errors: 0.1361\n",
      "2, Test errors: 0.1069\n",
      "3, Test errors: 0.0907\n",
      "4, Test errors: 0.08320000000000005\n",
      "5, Test errors: 0.0796\n",
      "6, Test errors: 0.07440000000000002\n",
      "7, Test errors: 0.07050000000000001\n",
      "8, Test errors: 0.06769999999999998\n",
      "9, Test errors: 0.06569999999999998\n",
      "10, Test errors: 0.06399999999999995\n",
      "11, Test errors: 0.061000000000000054\n",
      "12, Test errors: 0.05930000000000002\n",
      "13, Test errors: 0.05710000000000004\n",
      "14, Test errors: 0.05600000000000005\n",
      "15, Test errors: 0.05510000000000004\n"
     ]
    }
   ],
   "source": [
    "train_acc_numpy, test_acc_numpy = numpy_nn\n",
    "for i in range(epochs):\n",
    "    print(f'{i + 1}, Test errors: {1-test_acc_numpy[i]}')"
   ]
  },
  {
   "cell_type": "code",
   "execution_count": 20,
   "id": "31a42244",
   "metadata": {},
   "outputs": [
    {
     "data": {
      "image/png": "[encoded data removed]",
      "text/plain": [
       "<Figure size 640x480 with 1 Axes>"
      ]
     },
     "metadata": {},
     "output_type": "display_data"
    }
   ],
   "source": [
    "epochs_list = list(range(1, epochs + 1))\n",
    "plt.plot(epochs_list, train_acc_numpy, label='Train Accuracy', color='blue')\n",
    "plt.plot(epochs_list, test_acc_numpy, label='Test Accuracy', color='red')\n",
    "plt.xlabel('Epochs')\n",
    "plt.ylabel('Accuracy')\n",
    "plt.title('Train and Test Accuracy with numpy NN')\n",
    "plt.legend()\n",
    "plt.savefig('problem 4-2.png')\n",
    "plt.show()"
   ]
  },
  {
   "cell_type": "code",
   "execution_count": null,
   "id": "8923b739",
   "metadata": {},
   "outputs": [],
   "source": []
  },
  {
   "cell_type": "markdown",
   "id": "98ec1d3e",
   "metadata": {},
   "source": [
    "##"
   ]
  },
  {
   "cell_type": "code",
   "execution_count": 10,
   "id": "be779259",
   "metadata": {},
   "outputs": [],
   "source": [
    "# Define a neural network class\n",
    "class NeuralNetwork(nn.Module):\n",
    "    def __init__(self, input_dim, hidden_dim, output_dim):\n",
    "        super(NeuralNetwork, self).__init__()\n",
    "        self.layers = nn.Sequential(\n",
    "            nn.Linear(input_dim, hidden_dim),\n",
    "            nn.Sigmoid(),\n",
    "            nn.Linear(hidden_dim, output_dim),\n",
    "        )\n",
    "\n",
    "    def forward(self, x):\n",
    "        x = self.layers(x)\n",
    "        return x"
   ]
  },
  {
   "cell_type": "code",
   "execution_count": 11,
   "id": "ed771858",
   "metadata": {},
   "outputs": [],
   "source": [
    "def train_nn(network, input_dim = d, hidden_dim = d1, output_dim = k, \n",
    "             step_size = alpha, iteration = epochs, test_data = test_loader):\n",
    "    # Initialize model, loss function, and optimizer\n",
    "    model = network(input_dim, hidden_dim, output_dim)\n",
    "    criterion = nn.CrossEntropyLoss()\n",
    "    optimizer = optim.SGD(model.parameters(), lr = step_size)\n",
    "\n",
    "    # Start training and collect metrics\n",
    "    train_losses = [] \n",
    "    train_accuracies = []\n",
    "    test_accuracies = []\n",
    "\n",
    "    for epoch in range(iteration):\n",
    "        total_loss = 0\n",
    "        correct_train = 0\n",
    "        total_train_samples = 0\n",
    "        \n",
    "        sampler = RandomSampler(mnist_trainset, replacement=True)\n",
    "        train_loader = DataLoader(mnist_trainset, batch_size=batch, sampler=sampler)\n",
    "        \n",
    "        for images, labels in train_loader:\n",
    "            optimizer.zero_grad()\n",
    "            # Flatten the input images\n",
    "            outputs = model(images.view(-1, input_dim))  \n",
    "            loss = criterion(outputs, labels)\n",
    "            loss.backward()\n",
    "            optimizer.step()\n",
    "            total_loss += loss.item()\n",
    "\n",
    "            _, predicted = torch.max(outputs.data, 1)\n",
    "            total_train_samples += labels.size(0)\n",
    "            correct_train += (predicted == labels).sum().item()\n",
    "\n",
    "        average_loss = total_loss / len(train_loader)\n",
    "        train_losses.append(average_loss)\n",
    "        train_accuracy = correct_train / total_train_samples\n",
    "        train_accuracies.append(train_accuracy)\n",
    "\n",
    "        # Calculate test accuracy\n",
    "        correct_test = 0\n",
    "        total_test_samples = 0\n",
    "\n",
    "        with torch.no_grad():\n",
    "            for images, labels in test_data:\n",
    "                outputs = model(images.view(-1, input_dim))\n",
    "                _, predicted = torch.max(outputs.data, 1)\n",
    "                total_test_samples += labels.size(0)\n",
    "                correct_test += (predicted == labels).sum().item()\n",
    "\n",
    "        test_accuracy = correct_test / total_test_samples\n",
    "        test_accuracies.append(test_accuracy)\n",
    "        print(f'{epoch + 1}, Loss: {average_loss}, Train: {train_accuracy}, Test: {test_accuracy}')\n",
    "    return train_accuracies, test_accuracies"
   ]
  },
  {
   "cell_type": "code",
   "execution_count": 12,
   "id": "25217abf",
   "metadata": {
    "scrolled": false
   },
   "outputs": [
    {
     "name": "stdout",
     "output_type": "stream",
     "text": [
      "1, Loss: 0.9685476558287939, Train: 0.7404666666666667, Test: 0.8849\n",
      "2, Loss: 0.39342759533723193, Train: 0.89005, Test: 0.9023\n",
      "3, Loss: 0.33291438708702725, Train: 0.9056333333333333, Test: 0.9114\n",
      "4, Loss: 0.31397462667624154, Train: 0.9100333333333334, Test: 0.916\n",
      "5, Loss: 0.2911224812249343, Train: 0.9149666666666667, Test: 0.9219\n",
      "6, Loss: 0.27833014677762985, Train: 0.91935, Test: 0.9229\n",
      "7, Loss: 0.2724559858540694, Train: 0.9223166666666667, Test: 0.9241\n",
      "8, Loss: 0.2630272361348073, Train: 0.9252666666666667, Test: 0.9262\n",
      "9, Loss: 0.2485257745405038, Train: 0.92845, Test: 0.9294\n",
      "10, Loss: 0.24215537589589756, Train: 0.9303166666666667, Test: 0.9327\n",
      "11, Loss: 0.23535058984657128, Train: 0.9326333333333333, Test: 0.9346\n",
      "12, Loss: 0.22800326154033343, Train: 0.9355833333333333, Test: 0.934\n",
      "13, Loss: 0.21843373847504458, Train: 0.9374666666666667, Test: 0.9383\n",
      "14, Loss: 0.20769246765077115, Train: 0.9419, Test: 0.9412\n",
      "15, Loss: 0.20286516733268897, Train: 0.9416666666666667, Test: 0.9412\n"
     ]
    }
   ],
   "source": [
    "torch_nn = train_nn(NeuralNetwork)"
   ]
  },
  {
   "cell_type": "code",
   "execution_count": 13,
   "id": "16b89677",
   "metadata": {},
   "outputs": [
    {
     "name": "stdout",
     "output_type": "stream",
     "text": [
      "1, Test errors: 0.11509999999999998\n",
      "2, Test errors: 0.09770000000000001\n",
      "3, Test errors: 0.08860000000000001\n",
      "4, Test errors: 0.08399999999999996\n",
      "5, Test errors: 0.07809999999999995\n",
      "6, Test errors: 0.07709999999999995\n",
      "7, Test errors: 0.07589999999999997\n",
      "8, Test errors: 0.07379999999999998\n",
      "9, Test errors: 0.0706\n",
      "10, Test errors: 0.06730000000000003\n",
      "11, Test errors: 0.06540000000000001\n",
      "12, Test errors: 0.06599999999999995\n",
      "13, Test errors: 0.06169999999999998\n",
      "14, Test errors: 0.05879999999999996\n",
      "15, Test errors: 0.05879999999999996\n"
     ]
    }
   ],
   "source": [
    "train_acc, test_acc = torch_nn\n",
    "for i in range(epochs):\n",
    "    print(f'{i + 1}, Test errors: {1-test_acc[i]}')"
   ]
  },
  {
   "cell_type": "code",
   "execution_count": 14,
   "id": "9b034257",
   "metadata": {},
   "outputs": [
    {
     "data": {
      "image/png": "[encoded data removed]",
      "text/plain": [
       "<Figure size 640x480 with 1 Axes>"
      ]
     },
     "metadata": {},
     "output_type": "display_data"
    }
   ],
   "source": [
    "epochs_list = list(range(1, epochs + 1))\n",
    "plt.plot(epochs_list, train_acc, label='Train Accuracy', color='blue')\n",
    "plt.plot(epochs_list, test_acc, label='Test Accuracy', color='red')\n",
    "plt.xlabel('Epochs')\n",
    "plt.ylabel('Accuracy')\n",
    "plt.title('Train and Test Accuracy')\n",
    "plt.legend()\n",
    "plt.savefig('problem 4-3.png')\n",
    "plt.show()"
   ]
  },
  {
   "cell_type": "markdown",
   "id": "c8fbffe2",
   "metadata": {},
   "source": [
    "##"
   ]
  },
  {
   "cell_type": "code",
   "execution_count": 15,
   "id": "45ef03ec",
   "metadata": {},
   "outputs": [],
   "source": [
    "class NeuralNetwork_0(nn.Module):\n",
    "    def __init__(self, input_dim, hidden_dim, output_dim):\n",
    "        super(NeuralNetwork_0, self).__init__()\n",
    "        self.layers = nn.Sequential(\n",
    "            nn.Linear(input_dim, hidden_dim),\n",
    "            nn.Sigmoid(),\n",
    "            nn.Linear(hidden_dim, output_dim),\n",
    "        )\n",
    "        \n",
    "        # Call the weight initialization function\n",
    "        self.initialize_weights()\n",
    "\n",
    "    def forward(self, x):\n",
    "        x = self.layers(x)\n",
    "        return x\n",
    "\n",
    "    def initialize_weights(self):\n",
    "        for layer in self.layers:\n",
    "            if isinstance(layer, nn.Linear):\n",
    "                # Initialize the weights to zeros\n",
    "                init.zeros_(layer.weight)"
   ]
  },
  {
   "cell_type": "code",
   "execution_count": 16,
   "id": "26e15d9d",
   "metadata": {},
   "outputs": [
    {
     "name": "stdout",
     "output_type": "stream",
     "text": [
      "1, Loss: 2.319909357961019, Train: 0.1054, Test: 0.1429\n",
      "2, Loss: 1.7346762343406676, Train: 0.36236666666666667, Test: 0.6134\n",
      "3, Loss: 0.7951438965479533, Train: 0.7433666666666666, Test: 0.819\n",
      "4, Loss: 0.5040699436823527, Train: 0.8565166666666667, Test: 0.8819\n",
      "5, Loss: 0.4028399612983068, Train: 0.8864666666666666, Test: 0.8971\n",
      "6, Loss: 0.3581170582711697, Train: 0.8990833333333333, Test: 0.9046\n",
      "7, Loss: 0.3372497861683369, Train: 0.9048, Test: 0.9088\n",
      "8, Loss: 0.31888602197368937, Train: 0.9097333333333333, Test: 0.9156\n",
      "9, Loss: 0.30258701277971267, Train: 0.9133333333333333, Test: 0.9183\n",
      "10, Loss: 0.2967749779423078, Train: 0.9157166666666666, Test: 0.9186\n",
      "11, Loss: 0.2838754151145617, Train: 0.9180166666666667, Test: 0.9204\n",
      "12, Loss: 0.272808165209492, Train: 0.9223833333333333, Test: 0.9229\n",
      "13, Loss: 0.272408130333821, Train: 0.9211, Test: 0.9264\n",
      "14, Loss: 0.2570058427105347, Train: 0.92575, Test: 0.9259\n",
      "15, Loss: 0.24972947974701723, Train: 0.9265, Test: 0.931\n"
     ]
    }
   ],
   "source": [
    "torch_nn_0 = train_nn(NeuralNetwork_0)"
   ]
  },
  {
   "cell_type": "code",
   "execution_count": 17,
   "id": "06825ffc",
   "metadata": {},
   "outputs": [
    {
     "name": "stdout",
     "output_type": "stream",
     "text": [
      "1, Test errors: 0.8571\n",
      "2, Test errors: 0.38660000000000005\n",
      "3, Test errors: 0.18100000000000005\n",
      "4, Test errors: 0.11809999999999998\n",
      "5, Test errors: 0.10289999999999999\n",
      "6, Test errors: 0.09540000000000004\n",
      "7, Test errors: 0.09119999999999995\n",
      "8, Test errors: 0.08440000000000003\n",
      "9, Test errors: 0.0817\n",
      "10, Test errors: 0.08140000000000003\n",
      "11, Test errors: 0.0796\n",
      "12, Test errors: 0.07709999999999995\n",
      "13, Test errors: 0.0736\n",
      "14, Test errors: 0.07410000000000005\n",
      "15, Test errors: 0.06899999999999995\n"
     ]
    }
   ],
   "source": [
    "train_acc_0, test_acc_0 = torch_nn_0\n",
    "for i in range(epochs):\n",
    "    print(f'{i + 1}, Test errors: {1-test_acc_0[i]}')"
   ]
  },
  {
   "cell_type": "code",
   "execution_count": 18,
   "id": "8e8fd594",
   "metadata": {
    "scrolled": true
   },
   "outputs": [
    {
     "data": {
      "image/png": "[encoded data removed]",
      "text/plain": [
       "<Figure size 640x480 with 1 Axes>"
      ]
     },
     "metadata": {},
     "output_type": "display_data"
    }
   ],
   "source": [
    "plt.plot(epochs_list, train_acc_0, label='Train Accuracy', color='blue')\n",
    "plt.plot(epochs_list, test_acc_0, label='Test Accuracy', color='red')\n",
    "plt.xlabel('Epochs')\n",
    "plt.ylabel('Accuracy')\n",
    "plt.title('Train and Test Accuracy with 0 initialization')\n",
    "plt.legend()\n",
    "plt.savefig('problem 4-4-1.png')\n",
    "plt.show()"
   ]
  },
  {
   "cell_type": "code",
   "execution_count": null,
   "id": "c1d64d4f",
   "metadata": {},
   "outputs": [],
   "source": []
  },
  {
   "cell_type": "code",
   "execution_count": 19,
   "id": "3bf1e36f",
   "metadata": {},
   "outputs": [],
   "source": [
    "class NeuralNetwork_1(nn.Module):\n",
    "    def __init__(self, input_dim, hidden_dim, output_dim):\n",
    "        super(NeuralNetwork_1, self).__init__()\n",
    "        self.layers = nn.Sequential(\n",
    "            nn.Linear(input_dim, hidden_dim),\n",
    "            nn.Sigmoid(),\n",
    "            nn.Linear(hidden_dim, output_dim),\n",
    "        )\n",
    "        \n",
    "        # Call the weight initialization function\n",
    "        self.initialize_weights()\n",
    "\n",
    "    def forward(self, x):\n",
    "        x = self.layers(x)\n",
    "        return x\n",
    "\n",
    "    def initialize_weights(self):            \n",
    "        for layer in self.layers:\n",
    "            if isinstance(layer, nn.Linear):\n",
    "                # Initialize the weights to uniform -1,1\n",
    "                init.uniform_(layer.weight, -1, 1)"
   ]
  },
  {
   "cell_type": "code",
   "execution_count": 20,
   "id": "222600a0",
   "metadata": {},
   "outputs": [
    {
     "name": "stdout",
     "output_type": "stream",
     "text": [
      "1, Loss: 0.9151165804664294, Train: 0.7538, Test: 0.8563\n",
      "2, Loss: 0.4249521202564239, Train: 0.8761166666666667, Test: 0.8908\n",
      "3, Loss: 0.3476048279921214, Train: 0.8963666666666666, Test: 0.9024\n",
      "4, Loss: 0.29945708747208116, Train: 0.9115, Test: 0.9104\n",
      "5, Loss: 0.2665322231248021, Train: 0.9226, Test: 0.9157\n",
      "6, Loss: 0.2413769487058123, Train: 0.9286666666666666, Test: 0.9235\n",
      "7, Loss: 0.22095918229172626, Train: 0.9353833333333333, Test: 0.9261\n",
      "8, Loss: 0.2057234000419577, Train: 0.9399333333333333, Test: 0.9301\n",
      "9, Loss: 0.19284955530166625, Train: 0.9430666666666667, Test: 0.9331\n",
      "10, Loss: 0.18480788306444884, Train: 0.94655, Test: 0.9338\n",
      "11, Loss: 0.17324286667307218, Train: 0.9488, Test: 0.9378\n",
      "12, Loss: 0.1697911851465702, Train: 0.9506, Test: 0.9387\n",
      "13, Loss: 0.1601016299461325, Train: 0.9530666666666666, Test: 0.9416\n",
      "14, Loss: 0.15668635834107797, Train: 0.95495, Test: 0.9432\n",
      "15, Loss: 0.14865734889035423, Train: 0.9578666666666666, Test: 0.9433\n"
     ]
    }
   ],
   "source": [
    "torch_nn_1 = train_nn(NeuralNetwork_1)"
   ]
  },
  {
   "cell_type": "code",
   "execution_count": 21,
   "id": "a80b35f2",
   "metadata": {},
   "outputs": [
    {
     "name": "stdout",
     "output_type": "stream",
     "text": [
      "1, Test errors: 0.14370000000000005\n",
      "2, Test errors: 0.10919999999999996\n",
      "3, Test errors: 0.09760000000000002\n",
      "4, Test errors: 0.08960000000000001\n",
      "5, Test errors: 0.08430000000000004\n",
      "6, Test errors: 0.07650000000000001\n",
      "7, Test errors: 0.07389999999999997\n",
      "8, Test errors: 0.06989999999999996\n",
      "9, Test errors: 0.06689999999999996\n",
      "10, Test errors: 0.06620000000000004\n",
      "11, Test errors: 0.06220000000000003\n",
      "12, Test errors: 0.06130000000000002\n",
      "13, Test errors: 0.05840000000000001\n",
      "14, Test errors: 0.05679999999999996\n",
      "15, Test errors: 0.05669999999999997\n"
     ]
    }
   ],
   "source": [
    "train_acc_1, test_acc_1 = torch_nn_1\n",
    "for i in range(epochs):\n",
    "    print(f'{i + 1}, Test errors: {1-test_acc_1[i]}')"
   ]
  },
  {
   "cell_type": "code",
   "execution_count": 22,
   "id": "d80a9763",
   "metadata": {},
   "outputs": [
    {
     "data": {
      "image/png": "[encoded data removed]",
      "text/plain": [
       "<Figure size 640x480 with 1 Axes>"
      ]
     },
     "metadata": {},
     "output_type": "display_data"
    }
   ],
   "source": [
    "plt.plot(epochs_list, train_acc_1, label='Train Accuracy', color='blue')\n",
    "plt.plot(epochs_list, test_acc_1, label='Test Accuracy', color='red')\n",
    "plt.xlabel('Epochs')\n",
    "plt.ylabel('Accuracy')\n",
    "plt.title('Train and Test Accuracy with uniform(-1,1) initialization')\n",
    "plt.legend()\n",
    "plt.savefig('problem 4-4-2.png')\n",
    "plt.show()"
   ]
  },
  {
   "cell_type": "code",
   "execution_count": 23,
   "id": "d0e2a4c0",
   "metadata": {},
   "outputs": [
    {
     "data": {
      "image/png": "[encoded data removed]",
      "text/plain": [
       "<Figure size 640x480 with 1 Axes>"
      ]
     },
     "metadata": {},
     "output_type": "display_data"
    }
   ],
   "source": [
    "plt.plot(epochs_list, test_acc_0, label='Initial 0', color='blue')\n",
    "plt.plot(epochs_list, test_acc_1, label='Initial uniform', color='red')\n",
    "plt.xlabel('Epochs')\n",
    "plt.ylabel('Accuracy')\n",
    "plt.title('Test Accuracy of different initialization')\n",
    "plt.legend()\n",
    "plt.savefig('problem 4-4-3.png')\n",
    "plt.show()"
   ]
  },
  {
   "cell_type": "code",
   "execution_count": null,
   "id": "bdaa7cb7",
   "metadata": {},
   "outputs": [],
   "source": []
  },
  {
   "cell_type": "code",
   "execution_count": null,
   "id": "23ce82ef",
   "metadata": {},
   "outputs": [],
   "source": []
  }
 ],
 "metadata": {
  "kernelspec": {
   "display_name": "Python 3 (ipykernel)",
   "language": "python",
   "name": "python3"
  },
  "language_info": {
   "codemirror_mode": {
    "name": "ipython",
    "version": 3
   },
   "file_extension": ".py",
   "mimetype": "text/x-python",
   "name": "python",
   "nbconvert_exporter": "python",
   "pygments_lexer": "ipython3",
   "version": "3.11.4"
  },
  "toc": {
   "base_numbering": 1,
   "nav_menu": {},
   "number_sections": true,
   "sideBar": true,
   "skip_h1_title": false,
   "title_cell": "Table of Contents",
   "title_sidebar": "Contents",
   "toc_cell": false,
   "toc_position": {},
   "toc_section_display": true,
   "toc_window_display": false
  },
  "varInspector": {
   "cols": {
    "lenName": 16,
    "lenType": 16,
    "lenVar": 40
   },
   "kernels_config": {
    "python": {
     "delete_cmd_postfix": "",
     "delete_cmd_prefix": "del ",
     "library": "var_list.py",
     "varRefreshCmd": "print(var_dic_list())"
    },
    "r": {
     "delete_cmd_postfix": ") ",
     "delete_cmd_prefix": "rm(",
     "library": "var_list.r",
     "varRefreshCmd": "cat(var_dic_list()) "
    }
   },
   "types_to_exclude": [
    "module",
    "function",
    "builtin_function_or_method",
    "instance",
    "_Feature"
   ],
   "window_display": false
  }
 },
 "nbformat": 4,
 "nbformat_minor": 5
}
